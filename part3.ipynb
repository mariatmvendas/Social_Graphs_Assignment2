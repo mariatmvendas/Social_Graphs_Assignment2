{
 "cells": [
  {
   "cell_type": "markdown",
   "id": "05e029be",
   "metadata": {},
   "source": [
    "# Part 3\n"
   ]
  },
  {
   "cell_type": "markdown",
   "id": "b3564f44",
   "metadata": {},
   "source": [
    "1) Explain the concept of TF-IDF in your own words and how it can help you understand the genres and communities."
   ]
  },
  {
   "cell_type": "markdown",
   "id": "aa8e855e",
   "metadata": {},
   "source": [
    "Term Frequency–Inverse Document Frequency (TF-IDF) measures how relevant a word is in a specific text. It is calculated by taking the product of TF (Term Frequency) and the IDF (Inverse Document Frequency). \n",
    "\n",
    "The TF measures how often a word appears in a text and the IDF measures how specific a word is to a text in question. This is done by comparing the number of text parts that contain that word with the total number of different texts.\n",
    "\n",
    "Thus, by combining these 2 metrics, the TF-IDF score highlights words that are frequent in one text but rare in the rest of the collection. A high TF-IDF means that a work is highly descriptive of a certain text, because it appears in the text many times (high TF), but not so many in the other texts (high IDF).\n",
    "\n",
    "Therefore, we can use TF-IDF to recognize the words that are truly intrinsic and, thus, characterize, a certain genre or community. In fact, artists that have the same words with higher values of TF-IDF probably share some type of relationship (same genre or other type of connection) and, thus, are more likely to belong to the same community. \n",
    "\n",
    "This way, we can use TF-IDF to better undertsand the words that are more relevant per genre, and, thus, identify it. Moreover, we also use it to identify relationships between artists that are crucial when we analyse our network structure and find the communities present. \n"
   ]
  },
  {
   "cell_type": "markdown",
   "id": "7b763899",
   "metadata": {},
   "source": [
    "2) Calculate and visualize TF-IDF for the genres and communities."
   ]
  },
  {
   "cell_type": "code",
   "execution_count": null,
   "id": "f70efc25",
   "metadata": {},
   "outputs": [],
   "source": [
    "#imports\n",
    "\n",
    "import math\n",
    "from collections import Counter\n",
    "from pathlib import Path"
   ]
  },
  {
   "cell_type": "code",
   "execution_count": null,
   "id": "bc4d5c33",
   "metadata": {},
   "outputs": [],
   "source": [
    "#Function to compute tfidf\n",
    "\n",
    "def compute_tfidf(group_folder, label_type=\"genre\", top_n=10, show_top=True):\n",
    "\n",
    "    group_folder = Path(group_folder)\n",
    "    group_tf = {}\n",
    "    all_words = set()\n",
    "\n",
    "    # Load TF lists \n",
    "    for file in group_folder.glob(\"*_tf.txt\"):\n",
    "        group_name = file.stem.replace(\"_tf\", \"\")\n",
    "        counts = Counter()\n",
    "        with open(file, \"r\", encoding=\"utf-8\") as f:\n",
    "            for line in f:\n",
    "                word, freq = line.strip().split()\n",
    "                freq = int(freq)\n",
    "                counts[word] = freq\n",
    "                all_words.add(word)\n",
    "        group_tf[group_name] = counts\n",
    "\n",
    "    # Compute document frequency (df) \n",
    "    df = Counter()\n",
    "    for word in all_words:\n",
    "        df[word] = sum(1 for tf_counts in group_tf.values() if word in tf_counts)\n",
    "\n",
    "    # Compute IDF \n",
    "    N = len(group_tf)\n",
    "    idf = {word: math.log((N + 1) / (df[word] + 1)) for word in all_words}\n",
    "\n",
    "    # Compute TF-IDF per group \n",
    "    group_tfidf = {}\n",
    "    for group_name, tf_counts in group_tf.items():\n",
    "        total_words = sum(tf_counts.values())\n",
    "        tfidf = {}\n",
    "        for word, count in tf_counts.items():\n",
    "            tf = count / total_words\n",
    "            tfidf[word] = tf * idf[word]\n",
    "        group_tfidf[group_name] = tfidf\n",
    "\n",
    "    # Show top words    \n",
    "    for group_name, tfidf_dict in group_tfidf.items():\n",
    "        print(f\"\\n=== Top {top_n} TF-IDF words for {label_type.upper()} '{group_name}' ===\")\n",
    "        for word, score in sorted(tfidf_dict.items(), key=lambda x: x[1], reverse=True)[:top_n]:\n",
    "            print(f\"{word:20s} {score:.6f}\")\n",
    "\n",
    "    return group_tfidf, idf, df\n"
   ]
  },
  {
   "cell_type": "markdown",
   "id": "ce84a868",
   "metadata": {},
   "source": []
  }
 ],
 "metadata": {
  "kernelspec": {
   "display_name": "Python 3",
   "language": "python",
   "name": "python3"
  },
  "language_info": {
   "name": "python",
   "version": "3.10.11"
  }
 },
 "nbformat": 4,
 "nbformat_minor": 5
}
