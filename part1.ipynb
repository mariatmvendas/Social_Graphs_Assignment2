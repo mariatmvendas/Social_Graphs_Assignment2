{
 "cells": [
  {
   "cell_type": "markdown",
   "id": "2eb25fa0",
   "metadata": {},
   "source": [
    "## Part 1: Analyze the network"
   ]
  },
  {
   "cell_type": "markdown",
   "id": "aab67d4d",
   "metadata": {},
   "source": [
    "> Present an analysis/description of the network of bands/artists using tools from Lecture 5. Imagine that you have been tasked with presenting the important facts about the network to an audience who knows about network science, but doesn't know about this particular network."
   ]
  },
  {
   "cell_type": "code",
   "execution_count": 1,
   "id": "a7f5f73f",
   "metadata": {},
   "outputs": [],
   "source": [
    "import networkx as nx\n",
    "# import matplotlib.pyplot as plt\n",
    "# import numpy as np"
   ]
  },
  {
   "cell_type": "markdown",
   "id": "d0166916",
   "metadata": {},
   "source": [
    "The directed network is downloaded from a .graphml file."
   ]
  },
  {
   "cell_type": "code",
   "execution_count": null,
   "id": "b82e9853",
   "metadata": {},
   "outputs": [],
   "source": [
    "G = nx.read_graphml(\"data/rock_artists.graphml\")"
   ]
  },
  {
   "cell_type": "markdown",
   "id": "fbd387a8",
   "metadata": {},
   "source": [
    "### A. Qualitative Analysis"
   ]
  },
  {
   "cell_type": "markdown",
   "id": "cc668ef6",
   "metadata": {},
   "source": [
    "In a first analysis we will look at some qualitative measures."
   ]
  },
  {
   "cell_type": "markdown",
   "id": "19e2a90f",
   "metadata": {},
   "source": [
    "**Highest in**"
   ]
  },
  {
   "cell_type": "markdown",
   "id": "1de6ddcd",
   "metadata": {},
   "source": [
    "Highest in degree nodes are artists that are mentioned a lot in different wikipedia pages of other artists. The three artists with highest in degree node are the beatles, the rolling stones and led zeppelin. By taking a look at 10 of their neighbors that point to them, we can conlcude that these artists were either influenced by the highest in artists or also belong to their time. We can then say that the highest in degree nodes correspond to highly influential artistis in the rock world."
   ]
  },
  {
   "cell_type": "code",
   "execution_count": 4,
   "id": "d512eed7",
   "metadata": {},
   "outputs": [
    {
     "name": "stdout",
     "output_type": "stream",
     "text": [
      "[('the beatles', 167), ('the rolling stones', 119), ('led zeppelin', 117)]\n"
     ]
    }
   ],
   "source": [
    "#Highest in\n",
    "in_degrees = dict(G.in_degree())\n",
    "sorted_nodes_in = sorted(in_degrees.items(), key=lambda x: x[1], reverse=True)\n",
    "highest_in=sorted_nodes_in[:3]\n",
    "print(highest_in)"
   ]
  },
  {
   "cell_type": "code",
   "execution_count": null,
   "id": "cd4d265d",
   "metadata": {},
   "outputs": [
    {
     "name": "stdout",
     "output_type": "stream",
     "text": [
      "['breaking benjamin', 'stone temple pilots', 'linkin park', '10cc', 'the hollies', \"herman's hermits\", 'the moody blues', 'frank zappa', 'queen (band)', 'roxy music']\n",
      "['korn', 'stone temple pilots', 'puddle of mudd', 'the yardbirds', 'the hollies', 'the beatles', 'the moody blues', 'roxy music', 'jethro tull (band)', 'ramones']\n",
      "['korn', 'stone temple pilots', 'linkin park', 'puddle of mudd', 'the yardbirds', 'the moody blues', 'frank zappa', 'queen (band)', 'roxy music', 'the police']\n"
     ]
    }
   ],
   "source": [
    "#Neighbours pointing to\n",
    "beatles_neigh=list(G.predecessors('the beatles'))\n",
    "print(beatles_neigh[:10])\n",
    "\n",
    "trs_neigh=list(G.predecessors('the rolling stones'))\n",
    "print(trs_neigh[:10])\n",
    "\n",
    "ledz_neigh=list(G.predecessors('led zeppelin'))\n",
    "print(ledz_neigh[:10])"
   ]
  },
  {
   "cell_type": "markdown",
   "id": "09c6a093",
   "metadata": {},
   "source": [
    "**Highest out**"
   ]
  },
  {
   "cell_type": "markdown",
   "id": "ac690e7d",
   "metadata": {},
   "source": [
    "Highest out degree nodes are artists that mention a lot of other artists. The three artists with highest out degree node are alice in chains, deep purple and black sabbath. By taking a look at their wiki page we can see they have an extensive influence and legacy text where they mentioned a lot of artists. Therfore they out degree will be high and their neighbours will correspond to people they influenced or that they were influenced by mostly."
   ]
  },
  {
   "cell_type": "code",
   "execution_count": 12,
   "id": "3e378f93",
   "metadata": {},
   "outputs": [
    {
     "name": "stdout",
     "output_type": "stream",
     "text": [
      "[('echo & the bunnymen', 0), ('poison (american band)', 0), ('dallas green (musician)', 0), ('crosby, stills, nash & young', 0), ('the mamas & the papas', 0), ('mumford & sons', 0), (\"the b-52's\", 0), ('hootie & the blowfish', 0), ('crash test dummies', 0), ('hall & oates', 0)]\n"
     ]
    }
   ],
   "source": [
    "#Highest out \n",
    "out_degrees = dict(G.out_degree())\n",
    "sorted_nodes_out = sorted(out_degrees.items(), key=lambda x: x[1], reverse=True)\n",
    "highest_out=sorted_nodes_out[-10:]\n",
    "print(highest_out)"
   ]
  },
  {
   "cell_type": "code",
   "execution_count": 9,
   "id": "ce067943",
   "metadata": {},
   "outputs": [
    {
     "name": "stdout",
     "output_type": "stream",
     "text": [
      "['nirvana (band)', 'pearl jam', 'soundgarden', \"guns n' roses\", 'david bowie', 'van halen', 'iggy pop', 'poison (american band)', 'extreme (band)', 'anthrax (american band)']\n",
      "['rainbow (rock band)', 'whitesnake', 'joe satriani', 'led zeppelin', 'black sabbath', 'faces (band)', 'rod stewart', 'cream (band)', 'the moody blues', 'frank zappa']\n",
      "['ozzy osbourne', 'dio (band)', 'rainbow (rock band)', 'deep purple', 'led zeppelin', 'jethro tull (band)', 'judas priest', 'yes (band)', 'eagles (band)', 'emerson, lake & palmer']\n"
     ]
    }
   ],
   "source": [
    "#Neighbours they point to\n",
    "alice_neigh=list(G.successors('alice in chains'))\n",
    "print(alice_neigh[:10])\n",
    "\n",
    "dp_neigh=list(G.successors('deep purple'))\n",
    "print(dp_neigh[:10])\n",
    "\n",
    "bs_neigh=list(G.successors('black sabbath'))\n",
    "print(bs_neigh[:10])"
   ]
  },
  {
   "cell_type": "markdown",
   "id": "759f009c",
   "metadata": {},
   "source": [
    "**Differences between reasons for out- and in-links**"
   ]
  },
  {
   "cell_type": "markdown",
   "id": "2d1c6af4",
   "metadata": {},
   "source": [
    "Nodes with higher in links correspond to proeminent rock artistis that have influenced most other artists in some way. If you are mentioned in a lot of artists pages it means your influence spans through time and the world and therefore you mjust be an icon.\n",
    "\n",
    "Nodes with higher out links may correspond to are artists that mention a lot of its influences and with higher in that are an influencve"
   ]
  },
  {
   "cell_type": "markdown",
   "id": "9b918212",
   "metadata": {},
   "source": [
    "In a Wikipedia-based rock artist network, out-links from an artist reflect who they mention on their page—typically influences, collaborators, or genre peers—while in-links to an artist reflect who mentions them, capturing their influence, popularity, or iconic status. As a result, out-degree measures how many artists a page references, whereas in-degree measures how widely an artist is recognized across pages. Legendary or highly influential artists tend to have high in-degree but modest out-degree, while lesser-known or contemporary artists may have the opposite."
   ]
  },
  {
   "cell_type": "code",
   "execution_count": null,
   "id": "e89cc197",
   "metadata": {},
   "outputs": [],
   "source": []
  }
 ],
 "metadata": {
  "kernelspec": {
   "display_name": "sgi",
   "language": "python",
   "name": "python3"
  },
  "language_info": {
   "codemirror_mode": {
    "name": "ipython",
    "version": 3
   },
   "file_extension": ".py",
   "mimetype": "text/x-python",
   "name": "python",
   "nbconvert_exporter": "python",
   "pygments_lexer": "ipython3",
   "version": "3.11.13"
  }
 },
 "nbformat": 4,
 "nbformat_minor": 5
}
